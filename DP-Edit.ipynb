{
 "cells": [
  {
   "cell_type": "markdown",
   "metadata": {},
   "source": [
    "# Edit Distance Problem\n",
    "## Problem statement\n",
    "\n",
    "Given two strings word1 and word2, find the minimum number of operations required to convert word1 into word2.\n",
    "Allowed operations (each counted as 1 step):\n",
    "* Insertion: Add a character to word1.\n",
    "* Deletion: Remove a character from word1.\n",
    "* Substitution: Replace a character in word1 with another.\n",
    "\n",
    "### Example Cases\n",
    "\n",
    "* Exemple 1: \n",
    "Input: word1 = \"horse\", word2 = \"ros\"\n",
    "<br/>Output: 3<br/>\n",
    "Explanation:\n",
    "    * Replace \"h\" → \"r\" → (\"rorse\")\n",
    "    * Remove \"r\" → (\"rose\")\n",
    "    * Remove \"e\" → (\"ros\")\n",
    "\n",
    "* Exemple 2: \n",
    "Input: word1 =  \"intention\", word2 = \"execution\"\n",
    "<br/>Output: 5<br/>\n",
    "Explanation:\n",
    "    * Replace \"i\" → \"e\" → \"entention\"\n",
    "    * Replace \"n\" → \"x\" → \"extention\"\n",
    "    * Replace \"t\" → \"c\" → \"execution\"\n",
    "    * Remove \"e\" → \"execution\"\n",
    "    * Remove \"n\" → \"execution\"\n",
    "\n",
    "\n",
    "### Dynamic Programming Approach\n",
    "#### 1. Define Subproblems\n",
    "* Let $dp[i][j]$ represent the minimum number of operations needed to transform the first $i$ characters of word1 into the first $j$ characters of word2.\n",
    "\n",
    "#### 2. Recurrence Relation\n",
    "For each index $(i, j)$:\n",
    "* If word1[i-1] == word2[j-1], no operation is needed: $dp[i][j]=dp[i−1][j−1]$\n",
    "* Otherwise, consider the three operations: \n",
    "    * $dp[i][j]=1+min(dp[i−1][j])$,(Delete)\n",
    "    * $dp[i][j−1]$,(Insert)\n",
    "    * $dp[i−1][j−1]$(Replace)\n",
    "\n",
    "#### 3. Base Case\n",
    "* $dp[i][0] = i$ → Transforming word1[0:i] to an empty string takes i deletions.\n",
    "* $dp[0][j] = j$ → Transforming an empty string to word2[0:j] takes j insertions.\n",
    "\n",
    "#### 4. Time Complexity\n",
    "* $O(m \\times n)$, where m = len(word1), n = len(word2).\n",
    "* $O(m \\times n)$ space for the dp table."
   ]
  }
 ],
 "metadata": {
  "language_info": {
   "name": "python"
  }
 },
 "nbformat": 4,
 "nbformat_minor": 2
}
