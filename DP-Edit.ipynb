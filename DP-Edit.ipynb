{
 "cells": [
  {
   "cell_type": "markdown",
   "metadata": {},
   "source": [
    "# Edit Distance Problem\n",
    "## Problem statement\n",
    "\n",
    "Given two strings word1 and word2, find the minimum number of operations required to convert word1 into word2.\n",
    "Allowed operations (each counted as 1 step):\n",
    "* Insertion: Add a character to word1.\n",
    "* Deletion: Remove a character from word1.\n",
    "* Substitution: Replace a character in word1 with another.\n",
    "\n",
    "### Example Cases\n",
    "\n",
    "* Exemple 1: \n",
    "Input: word1 = \"horse\", word2 = \"ros\"\n",
    "<br/>Output: 3<br/>\n",
    "Explanation:\n",
    "    * Replace \"h\" → \"r\" → (\"rorse\")\n",
    "    * Remove \"r\" → (\"rose\")\n",
    "    * Remove \"e\" → (\"ros\")\n",
    "\n",
    "* Exemple 2: \n",
    "Input: word1 =  \"intention\", word2 = \"execution\"\n",
    "<br/>Output: 5<br/>\n",
    "Explanation:\n",
    "    * Replace \"i\" → \"e\" → \"entention\"\n",
    "    * Replace \"n\" → \"x\" → \"extention\"\n",
    "    * Replace \"t\" → \"c\" → \"execution\"\n",
    "    * Remove \"e\" → \"execution\"\n",
    "    * Remove \"n\" → \"execution\"\n",
    "\n",
    "\n",
    "### Dynamic Programming Approach\n",
    "#### 1. Define Subproblems\n",
    "* Let $dp[i][j]$ represent the minimum number of operations needed to transform the first $i$ characters of word1 into the first $j$ characters of word2.\n",
    "\n",
    "#### 2. Recurrence Relation\n",
    "For each index $(i, j)$:\n",
    "* If word1[i-1] == word2[j-1], no operation is needed: $dp[i][j]=dp[i−1][j−1]$\n",
    "* Otherwise, consider the three operations: \n",
    "    * $dp[i][j]=1+min(dp[i−1][j])$,(Delete)\n",
    "    * $dp[i][j−1]$,(Insert)\n",
    "    * $dp[i−1][j−1]$(Replace)\n",
    "\n",
    "#### 3. Base Case\n",
    "* $dp[i][0] = i$ → Transforming word1[0:i] to an empty string takes i deletions.\n",
    "* $dp[0][j] = j$ → Transforming an empty string to word2[0:j] takes j insertions.\n",
    "\n",
    "#### 4. Time Complexity\n",
    "* $O(m \\times n)$, where m = len(word1), n = len(word2).\n",
    "* $O(m \\times n)$ space for the dp table."
   ]
  },
  {
   "cell_type": "markdown",
   "metadata": {},
   "source": [
    "## First Python Code (complexity $O(n*m)$ Time, $O(n*m)$ Space)"
   ]
  },
  {
   "cell_type": "code",
   "execution_count": 3,
   "metadata": {},
   "outputs": [
    {
     "name": "stdout",
     "output_type": "stream",
     "text": [
      "3\n"
     ]
    }
   ],
   "source": [
    "def minDistance(word1, word2):\n",
    "    m, n = len(word1), len(word2)\n",
    "    \n",
    "    # Initialize DP table (m+1 x n+1)\n",
    "    dp = [[0] * (n + 1) for _ in range(m + 1)]\n",
    "    \n",
    "    # Base cases\n",
    "    for i in range(m + 1):\n",
    "        dp[i][0] = i  # Deletion cost\n",
    "    for j in range(n + 1):\n",
    "        dp[0][j] = j  # Insertion cost\n",
    "    \n",
    "    # Fill the DP table\n",
    "    for i in range(1, m + 1):\n",
    "        for j in range(1, n + 1):\n",
    "            if word1[i - 1] == word2[j - 1]:  # No change needed\n",
    "                dp[i][j] = dp[i - 1][j - 1]\n",
    "            else:\n",
    "                dp[i][j] = 1 + min(dp[i - 1][j],    # Delete\n",
    "                                   dp[i][j - 1],    # Insert\n",
    "                                   dp[i - 1][j - 1] # Replace\n",
    "                                  )\n",
    "\n",
    "    return dp[m][n]  # Minimum edit distance\n",
    "\n",
    "# Example usage:\n",
    "word1 = \"horse\"\n",
    "word2 = \"ros\"\n",
    "print(minDistance(word1, word2))  # Output: 3\n"
   ]
  },
  {
   "cell_type": "markdown",
   "metadata": {},
   "source": [
    "## Second Python Code (complexity $O(n*m)$ Time, $O(n)$ Space)"
   ]
  },
  {
   "cell_type": "code",
   "execution_count": 4,
   "metadata": {},
   "outputs": [
    {
     "name": "stdout",
     "output_type": "stream",
     "text": [
      "3\n"
     ]
    }
   ],
   "source": [
    "def minDistance(word1, word2):\n",
    "    m, n = len(word1), len(word2)\n",
    "    \n",
    "    # Use two 1D arrays instead of a full DP table\n",
    "    prev = list(range(n + 1))  # Base case: transforming \"\" to word2\n",
    "    curr = [0] * (n + 1)\n",
    "\n",
    "    for i in range(1, m + 1):\n",
    "        curr[0] = i  # Base case: transforming word1[:i] to \"\"\n",
    "        for j in range(1, n + 1):\n",
    "            if word1[i - 1] == word2[j - 1]:  # Characters match, no operation\n",
    "                curr[j] = prev[j - 1]\n",
    "            else:\n",
    "                curr[j] = 1 + min(prev[j],   # Delete\n",
    "                                  curr[j - 1],   # Insert\n",
    "                                  prev[j - 1])   # Replace\n",
    "        prev, curr = curr, prev  # Swap rows for next iteration\n",
    "\n",
    "    return prev[n]  # The last computed row contains the result\n",
    "\n",
    "# Example usage:\n",
    "word1 = \"horse\"\n",
    "word2 = \"ros\"\n",
    "print(minDistance(word1, word2))  # Output: 3\n"
   ]
  }
 ],
 "metadata": {
  "kernelspec": {
   "display_name": "Python 3",
   "language": "python",
   "name": "python3"
  },
  "language_info": {
   "codemirror_mode": {
    "name": "ipython",
    "version": 3
   },
   "file_extension": ".py",
   "mimetype": "text/x-python",
   "name": "python",
   "nbconvert_exporter": "python",
   "pygments_lexer": "ipython3",
   "version": "3.10.12"
  }
 },
 "nbformat": 4,
 "nbformat_minor": 2
}
