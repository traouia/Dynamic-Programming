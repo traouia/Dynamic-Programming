{
 "cells": [
  {
   "cell_type": "markdown",
   "metadata": {},
   "source": [
    "# Edit Distance Problem\n",
    "## Problem statement\n",
    "\n",
    "Given two strings word1 and word2, find the minimum number of operations required to convert word1 into word2.\n",
    "<br\\>Allowed operations (each counted as 1 step):<br\\>\n",
    "* Insertion: Add a character to word1.\n",
    "* Deletion: Remove a character from word1.\n",
    "* Substitution: Replace a character in word1 with another.\n"
   ]
  }
 ],
 "metadata": {
  "language_info": {
   "name": "python"
  }
 },
 "nbformat": 4,
 "nbformat_minor": 2
}
