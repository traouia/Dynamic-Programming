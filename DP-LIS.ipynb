{
 "cells": [
  {
   "cell_type": "markdown",
   "metadata": {},
   "source": [
    "# Longest Increasing Subsequence (LIS) Problem \n",
    "## Problem statement\n",
    "Given an array of integers, find the length of the longest increasing subsequence (LIS). \n",
    "\n",
    "A subsequence is a sequence derived from an array by deleting some or no elements without changing the relative order of the remaining elements.\n",
    "\n",
    "### Example Cases\n",
    "\n",
    "* Input: nums = [10, 9, 2, 5, 3, 7, 101, 18]\n",
    "  <br/>Output: 4<br/>\n",
    "  Explanation: The longest increasing subsequence is [2, 3, 7, 101], which has length 4.\n",
    "\n",
    "* Input: nums = [0, 1, 0, 3, 2, 3]\n",
    "  <br/>Output: 4<br/>\n",
    "  Explanation: The longest increasing subsequence is [0, 1, 2, 3], which has length 4.\n",
    "\n",
    "* Input: nums = [7, 7, 7, 7, 7, 7, 7]\n",
    "  <br/>Output: 1<br/>\n",
    "  Explanation: The longest increasing subsequence is [7], which has length 1.\n",
    "\n",
    "\n",
    "### Dynamic Programming Approach\n",
    "#### 1. Define Subproblems\n",
    "* Let $dp[i]$ represent the length of the LIS ending at index $i$.\n",
    "\n",
    "#### 2. Recurrence Relation\n",
    "* To extend LIS at index $i$, check all previous indices $j < i$ where $nums[j] < nums[i]$, then:\n",
    "    $dp[i]=max⁡(dp[i],dp[j]+1)$ for all $j<i$ where $nums[j]<nums[i]$\n",
    "\n",
    "* The final answer is $max(dp)$, since LIS can end at any index.\n",
    "\n",
    "#### 3. Base Case\n",
    "* Every element alone is an LIS of length $1$, so initialize $dp[i] = 1$.\n",
    "\n",
    "#### 4. Time Complexity\n",
    "* $O(n^2)$ using a nested loop ($i$ iterating over $j$).\n",
    "* Can be optimized to $O(n log n)$ using Binary Search."
   ]
  },
  {
   "cell_type": "markdown",
   "metadata": {},
   "source": [
    "## First Python Code (complexity $O(n^2)$)"
   ]
  },
  {
   "cell_type": "code",
   "execution_count": 2,
   "metadata": {},
   "outputs": [
    {
     "name": "stdout",
     "output_type": "stream",
     "text": [
      "4\n"
     ]
    }
   ],
   "source": [
    "def lengthOfLIS(nums):\n",
    "    if not nums:\n",
    "        return 0\n",
    "\n",
    "    n = len(nums)\n",
    "    dp = [1] * n  # Initialize LIS length for each index as 1\n",
    "\n",
    "    for i in range(1, n):  # Iterate over each element\n",
    "        for j in range(i):  # Check all previous elements\n",
    "            if nums[j] < nums[i]:  # Can nums[i] extend LIS ending at nums[j]?\n",
    "                dp[i] = max(dp[i], dp[j] + 1)\n",
    "\n",
    "    return max(dp)  # The longest LIS found in the array\n",
    "\n",
    "# Example usage:\n",
    "nums = [10, 9, 2, 5, 3, 7, 101, 18]\n",
    "print(lengthOfLIS(nums))  # Output: 4\n"
   ]
  },
  {
   "cell_type": "markdown",
   "metadata": {},
   "source": [
    "## Second Python Code (complexity $O(n log n)$)"
   ]
  },
  {
   "cell_type": "code",
   "execution_count": 3,
   "metadata": {},
   "outputs": [
    {
     "name": "stdout",
     "output_type": "stream",
     "text": [
      "4\n"
     ]
    }
   ],
   "source": [
    "import bisect\n",
    "\n",
    "def lengthOfLIS(nums):\n",
    "    sub = []  # Stores smallest possible LIS ending elements\n",
    "\n",
    "    for num in nums:\n",
    "        idx = bisect.bisect_left(sub, num)  # Find the position to replace or extend\n",
    "        if idx == len(sub):\n",
    "            sub.append(num)  # Extend LIS\n",
    "        else:\n",
    "            sub[idx] = num  # Replace element to keep subsequence minimal\n",
    "\n",
    "    return len(sub)  # Length of the subsequence represents LIS length\n",
    "\n",
    "# Example usage:\n",
    "nums = [10, 9, 2, 5, 3, 7, 101, 18]\n",
    "print(lengthOfLIS(nums))  # Output: 4\n"
   ]
  }
 ],
 "metadata": {
  "kernelspec": {
   "display_name": "Python 3",
   "language": "python",
   "name": "python3"
  },
  "language_info": {
   "codemirror_mode": {
    "name": "ipython",
    "version": 3
   },
   "file_extension": ".py",
   "mimetype": "text/x-python",
   "name": "python",
   "nbconvert_exporter": "python",
   "pygments_lexer": "ipython3",
   "version": "3.10.12"
  }
 },
 "nbformat": 4,
 "nbformat_minor": 2
}
