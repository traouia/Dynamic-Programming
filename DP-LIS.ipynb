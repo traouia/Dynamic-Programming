{
 "cells": [
  {
   "cell_type": "markdown",
   "metadata": {},
   "source": [
    "# Longest Increasing Subsequence (LIS) Problem \n",
    "## Problem statement\n",
    "Given an array of integers, find the length of the longest increasing subsequence (LIS). \n",
    "\n",
    "A subsequence is a sequence derived from an array by deleting some or no elements without changing the relative order of the remaining elements.\n",
    "\n",
    "### Example Cases\n",
    "\n",
    "* Input: nums = [10, 9, 2, 5, 3, 7, 101, 18]\n",
    "  <br/>Output: 4<br/>\n",
    "  Explanation: The longest increasing subsequence is [2, 3, 7, 101], which has length 4.\n",
    "\n",
    "* Input: nums = [0, 1, 0, 3, 2, 3]\n",
    "  <br/>Output: 4<br/>\n",
    "  Explanation: The longest increasing subsequence is [0, 1, 2, 3], which has length 4.\n",
    "\n",
    "* Input: nums = [7, 7, 7, 7, 7, 7, 7]\n",
    "  <br/>Output: 1<br/>\n",
    "  Explanation: The longest increasing subsequence is [7], which has length 1.\n",
    "\n",
    "\n",
    "### Dynamic Programming Approach\n",
    "#### 1. Define Subproblems\n",
    "* Let $dp[i]$ represent the length of the LIS ending at index $i$.\n",
    "\n",
    "#### 2. Recurrence Relation\n",
    "* To extend LIS at index $i$, check all previous indices $j < i$ where $nums[j] < nums[i]$, then:\n",
    "    $dp[i]=max⁡(dp[i],dp[j]+1)$ for all $j<i$ where $nums[j]<nums[i]$\n",
    "\n",
    "* The final answer is $max(dp)$, since LIS can end at any index.\n",
    "\n",
    "#### 3. Base Case\n",
    "* Every element alone is an LIS of length $1$, so initialize $dp[i] = 1$.\n",
    "\n",
    "#### 4. Time Complexity\n",
    "* $O(n^2)$ using a nested loop ($i$ iterating over $j$).\n",
    "* Can be optimized to $O(n log n)$ using Binary Search."
   ]
  }
 ],
 "metadata": {
  "language_info": {
   "name": "python"
  }
 },
 "nbformat": 4,
 "nbformat_minor": 2
}
